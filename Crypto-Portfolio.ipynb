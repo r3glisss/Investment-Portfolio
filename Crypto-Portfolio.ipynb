{
 "cells": [
  {
   "cell_type": "code",
   "execution_count": 1,
   "metadata": {},
   "outputs": [],
   "source": [
    "import time\n",
    "\n",
    "import numpy as np\n",
    "import matplotlib.pyplot as plt\n",
    "%matplotlib inline\n",
    "import pandas as pd\n",
    "import cryptowatch as cw"
   ]
  },
  {
   "cell_type": "code",
   "execution_count": 2,
   "metadata": {},
   "outputs": [],
   "source": [
    "Markets = [\"kraken:btceur\", \"kraken:etheur\"]\n",
    "           #, \"kraken:ltceur\", \"kraken:bateur\", \"kraken:eoseur\", \"kraken:waveseur\"]\n",
    "#   [\"kraken:algoeur\", \"kraken:repeur\", \"kraken:bcheur\",\n",
    "#   \"kraken:adaeur\", \"kraken:linkeur\", \"kraken:atomeur\",\"kraken:dasheur\", \"kraken:daieur\", \"kraken:dogeur\",\n",
    "#   \"kraken:etceur\", \"kraken:gnoeur\", \"kraken:icxeur\", \"kraken:lskeur\", \"kraken:mlneur\", \"kraken:xmreur\", \n",
    "#   \"kraken:nanoeur\", \"kraken:omgeur\", \"kraken:paxgeur\", \"kraken:qtumeur\", \"kraken:xrpeur\", \"kraken:sceur\",\n",
    "#   \"kraken:xlmeur\", \"kraken:usdteur\", \"kraken:xtzeur\", \"kraken:trxeur\", \"kraken:usdceur\", \"kraken:waveseur\", \n",
    "#   \"kraken:zeceur\" ] \n",
    "\n",
    "StartDate = '2018-01-01'\n",
    "# EndDate = ''\n",
    "\n",
    "CapitalRisk = 3000"
   ]
  },
  {
   "cell_type": "code",
   "execution_count": 3,
   "metadata": {},
   "outputs": [],
   "source": [
    "def PullMarkets(MarketList):\n",
    "    MarketDf = pd.DataFrame()\n",
    "    \n",
    "    for m in MarketList:\n",
    "        try:\n",
    "            CoinName = m.split(':')[1]\n",
    "            candles = cw.markets.get(m, ohlc=True)\n",
    "            # Convert to data-frame\n",
    "            df = pd.DataFrame(candles.of_1d, columns=['Date', 'OpenPrice', 'HighPrice', 'LowPrice', 'ClosePrice', 'Volum', 'NA'])\n",
    "            # Drop the last column\n",
    "            df.drop(columns=['NA'], inplace=True)\n",
    "            \n",
    "            # Set close time to second\n",
    "            df['Date'] = pd.to_datetime(df['Date'], unit='s')\n",
    "\n",
    "            # Set close time as index\n",
    "            df.set_index('Date', inplace=True)\n",
    "\n",
    "            # Adjusting the data frame according the defined start\n",
    "            df = df.loc[df.index >= pd.to_datetime(StartDate)]\n",
    "            # df = df.loc[df.index >= pd.to_datetime(EndDate)]\n",
    "            \n",
    "            if MarketDf.empty:\n",
    "                MarketDf = pd.DataFrame(index=df.index)\n",
    "                MarketDf[CoinName] = df['ClosePrice']\n",
    "            else:\n",
    "                MarketDf = pd.concat([MarketDf, df['ClosePrice']], axis=1)\n",
    "                MarketDf = MarketDf.rename(columns={'ClosePrice':CoinName})\n",
    "            \n",
    "        finally:\n",
    "            time.sleep(0.5)\n",
    "        \n",
    "    return MarketDf"
   ]
  },
  {
   "cell_type": "code",
   "execution_count": 4,
   "metadata": {},
   "outputs": [
    {
     "data": {
      "text/html": [
       "<div>\n",
       "<style scoped>\n",
       "    .dataframe tbody tr th:only-of-type {\n",
       "        vertical-align: middle;\n",
       "    }\n",
       "\n",
       "    .dataframe tbody tr th {\n",
       "        vertical-align: top;\n",
       "    }\n",
       "\n",
       "    .dataframe thead th {\n",
       "        text-align: right;\n",
       "    }\n",
       "</style>\n",
       "<table border=\"1\" class=\"dataframe\">\n",
       "  <thead>\n",
       "    <tr style=\"text-align: right;\">\n",
       "      <th></th>\n",
       "      <th>btceur</th>\n",
       "      <th>etheur</th>\n",
       "    </tr>\n",
       "    <tr>\n",
       "      <th>Date</th>\n",
       "      <th></th>\n",
       "      <th></th>\n",
       "    </tr>\n",
       "  </thead>\n",
       "  <tbody>\n",
       "    <tr>\n",
       "      <th>2018-01-01</th>\n",
       "      <td>11993.6</td>\n",
       "      <td>639.00</td>\n",
       "    </tr>\n",
       "    <tr>\n",
       "      <th>2018-01-02</th>\n",
       "      <td>11359.3</td>\n",
       "      <td>638.02</td>\n",
       "    </tr>\n",
       "    <tr>\n",
       "      <th>2018-01-03</th>\n",
       "      <td>12299.8</td>\n",
       "      <td>713.00</td>\n",
       "    </tr>\n",
       "    <tr>\n",
       "      <th>2018-01-04</th>\n",
       "      <td>12650.0</td>\n",
       "      <td>779.22</td>\n",
       "    </tr>\n",
       "    <tr>\n",
       "      <th>2018-01-05</th>\n",
       "      <td>12750.4</td>\n",
       "      <td>791.98</td>\n",
       "    </tr>\n",
       "    <tr>\n",
       "      <th>...</th>\n",
       "      <td>...</td>\n",
       "      <td>...</td>\n",
       "    </tr>\n",
       "    <tr>\n",
       "      <th>2021-07-19</th>\n",
       "      <td>26893.6</td>\n",
       "      <td>1600.80</td>\n",
       "    </tr>\n",
       "    <tr>\n",
       "      <th>2021-07-20</th>\n",
       "      <td>26116.5</td>\n",
       "      <td>1541.28</td>\n",
       "    </tr>\n",
       "    <tr>\n",
       "      <th>2021-07-21</th>\n",
       "      <td>25285.0</td>\n",
       "      <td>1515.76</td>\n",
       "    </tr>\n",
       "    <tr>\n",
       "      <th>2021-07-22</th>\n",
       "      <td>27250.2</td>\n",
       "      <td>1690.50</td>\n",
       "    </tr>\n",
       "    <tr>\n",
       "      <th>2021-07-23</th>\n",
       "      <td>27456.3</td>\n",
       "      <td>1720.65</td>\n",
       "    </tr>\n",
       "  </tbody>\n",
       "</table>\n",
       "<p>1299 rows × 2 columns</p>\n",
       "</div>"
      ],
      "text/plain": [
       "             btceur   etheur\n",
       "Date                        \n",
       "2018-01-01  11993.6   639.00\n",
       "2018-01-02  11359.3   638.02\n",
       "2018-01-03  12299.8   713.00\n",
       "2018-01-04  12650.0   779.22\n",
       "2018-01-05  12750.4   791.98\n",
       "...             ...      ...\n",
       "2021-07-19  26893.6  1600.80\n",
       "2021-07-20  26116.5  1541.28\n",
       "2021-07-21  25285.0  1515.76\n",
       "2021-07-22  27250.2  1690.50\n",
       "2021-07-23  27456.3  1720.65\n",
       "\n",
       "[1299 rows x 2 columns]"
      ]
     },
     "execution_count": 4,
     "metadata": {},
     "output_type": "execute_result"
    }
   ],
   "source": [
    "Portfolio = PullMarkets(Markets)\n",
    "Portfolio"
   ]
  },
  {
   "cell_type": "code",
   "execution_count": 5,
   "metadata": {},
   "outputs": [
    {
     "data": {
      "text/plain": [
       "btceur    0.001489\n",
       "etheur    0.002216\n",
       "dtype: float64"
      ]
     },
     "execution_count": 5,
     "metadata": {},
     "output_type": "execute_result"
    }
   ],
   "source": [
    "# Mean\n",
    "Portfolio.pct_change(1).mean()"
   ]
  },
  {
   "cell_type": "code",
   "execution_count": 6,
   "metadata": {},
   "outputs": [
    {
     "data": {
      "text/html": [
       "<div>\n",
       "<style scoped>\n",
       "    .dataframe tbody tr th:only-of-type {\n",
       "        vertical-align: middle;\n",
       "    }\n",
       "\n",
       "    .dataframe tbody tr th {\n",
       "        vertical-align: top;\n",
       "    }\n",
       "\n",
       "    .dataframe thead th {\n",
       "        text-align: right;\n",
       "    }\n",
       "</style>\n",
       "<table border=\"1\" class=\"dataframe\">\n",
       "  <thead>\n",
       "    <tr style=\"text-align: right;\">\n",
       "      <th></th>\n",
       "      <th>btceur</th>\n",
       "      <th>etheur</th>\n",
       "    </tr>\n",
       "  </thead>\n",
       "  <tbody>\n",
       "    <tr>\n",
       "      <th>btceur</th>\n",
       "      <td>1.000000</td>\n",
       "      <td>0.883792</td>\n",
       "    </tr>\n",
       "    <tr>\n",
       "      <th>etheur</th>\n",
       "      <td>0.883792</td>\n",
       "      <td>1.000000</td>\n",
       "    </tr>\n",
       "  </tbody>\n",
       "</table>\n",
       "</div>"
      ],
      "text/plain": [
       "          btceur    etheur\n",
       "btceur  1.000000  0.883792\n",
       "etheur  0.883792  1.000000"
      ]
     },
     "execution_count": 6,
     "metadata": {},
     "output_type": "execute_result"
    }
   ],
   "source": [
    "Portfolio.corr()"
   ]
  },
  {
   "cell_type": "code",
   "execution_count": 7,
   "metadata": {},
   "outputs": [
    {
     "data": {
      "text/html": [
       "<div>\n",
       "<style scoped>\n",
       "    .dataframe tbody tr th:only-of-type {\n",
       "        vertical-align: middle;\n",
       "    }\n",
       "\n",
       "    .dataframe tbody tr th {\n",
       "        vertical-align: top;\n",
       "    }\n",
       "\n",
       "    .dataframe thead th {\n",
       "        text-align: right;\n",
       "    }\n",
       "</style>\n",
       "<table border=\"1\" class=\"dataframe\">\n",
       "  <thead>\n",
       "    <tr style=\"text-align: right;\">\n",
       "      <th></th>\n",
       "      <th>btceur</th>\n",
       "      <th>etheur</th>\n",
       "    </tr>\n",
       "    <tr>\n",
       "      <th>Date</th>\n",
       "      <th></th>\n",
       "      <th></th>\n",
       "    </tr>\n",
       "  </thead>\n",
       "  <tbody>\n",
       "    <tr>\n",
       "      <th>2018-01-01</th>\n",
       "      <td>NaN</td>\n",
       "      <td>NaN</td>\n",
       "    </tr>\n",
       "    <tr>\n",
       "      <th>2018-01-02</th>\n",
       "      <td>-0.054336</td>\n",
       "      <td>-0.001535</td>\n",
       "    </tr>\n",
       "    <tr>\n",
       "      <th>2018-01-03</th>\n",
       "      <td>0.079546</td>\n",
       "      <td>0.111112</td>\n",
       "    </tr>\n",
       "    <tr>\n",
       "      <th>2018-01-04</th>\n",
       "      <td>0.028074</td>\n",
       "      <td>0.088812</td>\n",
       "    </tr>\n",
       "    <tr>\n",
       "      <th>2018-01-05</th>\n",
       "      <td>0.007905</td>\n",
       "      <td>0.016243</td>\n",
       "    </tr>\n",
       "  </tbody>\n",
       "</table>\n",
       "</div>"
      ],
      "text/plain": [
       "              btceur    etheur\n",
       "Date                          \n",
       "2018-01-01       NaN       NaN\n",
       "2018-01-02 -0.054336 -0.001535\n",
       "2018-01-03  0.079546  0.111112\n",
       "2018-01-04  0.028074  0.088812\n",
       "2018-01-05  0.007905  0.016243"
      ]
     },
     "execution_count": 7,
     "metadata": {},
     "output_type": "execute_result"
    }
   ],
   "source": [
    "# Logarithmic daily return\n",
    "PortfolioLogDailyRet = np.log(Portfolio/Portfolio.shift(1))\n",
    "PortfolioLogDailyRet.head()"
   ]
  },
  {
   "cell_type": "code",
   "execution_count": 8,
   "metadata": {},
   "outputs": [
    {
     "data": {
      "text/html": [
       "<div>\n",
       "<style scoped>\n",
       "    .dataframe tbody tr th:only-of-type {\n",
       "        vertical-align: middle;\n",
       "    }\n",
       "\n",
       "    .dataframe tbody tr th {\n",
       "        vertical-align: top;\n",
       "    }\n",
       "\n",
       "    .dataframe thead th {\n",
       "        text-align: right;\n",
       "    }\n",
       "</style>\n",
       "<table border=\"1\" class=\"dataframe\">\n",
       "  <thead>\n",
       "    <tr style=\"text-align: right;\">\n",
       "      <th></th>\n",
       "      <th>btceur</th>\n",
       "      <th>etheur</th>\n",
       "    </tr>\n",
       "  </thead>\n",
       "  <tbody>\n",
       "    <tr>\n",
       "      <th>btceur</th>\n",
       "      <td>0.630547</td>\n",
       "      <td>0.676281</td>\n",
       "    </tr>\n",
       "    <tr>\n",
       "      <th>etheur</th>\n",
       "      <td>0.676281</td>\n",
       "      <td>1.080043</td>\n",
       "    </tr>\n",
       "  </tbody>\n",
       "</table>\n",
       "</div>"
      ],
      "text/plain": [
       "          btceur    etheur\n",
       "btceur  0.630547  0.676281\n",
       "etheur  0.676281  1.080043"
      ]
     },
     "execution_count": 8,
     "metadata": {},
     "output_type": "execute_result"
    }
   ],
   "source": [
    "# Covariance of the log return\n",
    "PortfolioLogDailyRet.cov()*365.25"
   ]
  },
  {
   "cell_type": "code",
   "execution_count": 9,
   "metadata": {},
   "outputs": [],
   "source": [
    "# To always get the same random number if replaying the portfolio\n",
    "# np.random.seed(101)\n",
    "\n",
    "NbPortfolios = 5000\n",
    "AllWeights = np.zeros((NbPortfolios, len(PortfolioLogDailyRet.columns)))\n",
    "ret_array = np.zeros(NbPortfolios)\n",
    "vol_array = np.zeros(NbPortfolios)\n",
    "sharpe_array = np.zeros(NbPortfolios)\n",
    "\n",
    "# Random simulation of the portfolio\n",
    "for ind in range(NbPortfolios):\n",
    "    # Rand weights and normalization\n",
    "    weights = np.array(np.random.random(len(Portfolio.columns)))\n",
    "    weights = weights/np.sum(weights)\n",
    "\n",
    "    # Save the weights here\n",
    "    AllWeights[ind,:] = weights    \n",
    "\n",
    "    # Expected Return\n",
    "    ret_array[ind] = np.sum(PortfolioLogDailyRet.mean() * weights * 365.25)\n",
    "\n",
    "    # Expected volatility\n",
    "    vol_array[ind] = np.sqrt(np.dot(weights.T, np.dot(PortfolioLogDailyRet.cov() * 365.25, weights)))\n",
    "\n",
    "    # Sharpe ratio\n",
    "    sharpe_array[ind] = ret_array[ind]/vol_array[ind]"
   ]
  },
  {
   "cell_type": "code",
   "execution_count": 10,
   "metadata": {},
   "outputs": [
    {
     "name": "stdout",
     "output_type": "stream",
     "text": [
      "Optimal Sharpe Ratio:\n",
      "0.2974472442910586\n",
      "\n",
      "Optimal weights:\n",
      "('kraken:btceur', 0.7770032943578715)\n",
      "('kraken:etheur', 0.22299670564212848)\n"
     ]
    }
   ],
   "source": [
    "# Maximum sharpe ratio and location\n",
    "print('Optimal Sharpe Ratio:')\n",
    "print(sharpe_array.max())\n",
    "# print(sharpe_array.argmax())\n",
    "print ('\\nOptimal weights:')\n",
    "for optw in zip(Markets, AllWeights[sharpe_array.argmax()]):\n",
    "    print(optw)"
   ]
  },
  {
   "cell_type": "code",
   "execution_count": 11,
   "metadata": {},
   "outputs": [
    {
     "data": {
      "text/plain": [
       "<matplotlib.collections.PathCollection at 0x7f07a7915370>"
      ]
     },
     "execution_count": 11,
     "metadata": {},
     "output_type": "execute_result"
    },
    {
     "data": {
      "image/png": "[encoded data removed]",
      "text/plain": [
       "<Figure size 864x576 with 2 Axes>"
      ]
     },
     "metadata": {
      "needs_background": "light"
     },
     "output_type": "display_data"
    }
   ],
   "source": [
    "# Scatter plot for the portfolio\n",
    "plt.figure(figsize=(12,8))\n",
    "plt.scatter(vol_array, ret_array, c=sharpe_array, cmap='plasma')\n",
    "plt.colorbar(label='Sharpe Ratio')\n",
    "plt.xlabel('Volatility')\n",
    "plt.ylabel('Return')\n",
    "\n",
    "# Scatter the best sharpe ratio\n",
    "max_sr_ret = ret_array[sharpe_array.argmax()]\n",
    "max_sr_vol = vol_array[sharpe_array.argmax()]\n",
    "\n",
    "plt.scatter(max_sr_vol, max_sr_ret, c='red', s=50, edgecolors='black')"
   ]
  },
  {
   "cell_type": "code",
   "execution_count": 12,
   "metadata": {},
   "outputs": [],
   "source": [
    "# Much better optimization\n",
    "from scipy.optimize import minimize\n",
    "\n",
    "# define a couple of functions\n",
    "def get_ret_vol_sr(weights):\n",
    "    weights = np.array(weights)\n",
    "    ret = np.sum(PortfolioLogDailyRet.mean() * weights) * 365.25\n",
    "    vol = np.sqrt(np.dot(weights.T, np.dot(PortfolioLogDailyRet.cov()*365.25, weights)))\n",
    "    sr = ret/vol\n",
    "    return np.array([ret, vol, sr])\n",
    "\n",
    "def neg_sharp(weights):\n",
    "    return get_ret_vol_sr(weights)[2] * -1\n",
    "\n",
    "def check_sum(weights):\n",
    "    # return 0 if the sum of the weights is one\n",
    "    return np.sum(weights) - 1\n",
    "\n",
    "def minimize_volatility(weights):\n",
    "    return get_ret_vol_sr(weights)[1]"
   ]
  },
  {
   "cell_type": "code",
   "execution_count": 13,
   "metadata": {},
   "outputs": [],
   "source": [
    "cons = ({\"type\":\"eq\", \"fun\":check_sum})\n",
    "bounds = tuple([(0,1)] * len(PortfolioLogDailyRet.columns))\n",
    "init_guess = [1/len(PortfolioLogDailyRet.columns) for i in range(len(PortfolioLogDailyRet.columns))] \n",
    "opt_results = minimize(neg_sharp, init_guess, method='SLSQP', bounds=bounds, constraints=cons)"
   ]
  },
  {
   "cell_type": "code",
   "execution_count": 14,
   "metadata": {},
   "outputs": [
    {
     "name": "stdout",
     "output_type": "stream",
     "text": [
      "\n",
      "Optimal weights:\n",
      "('kraken:btceur', 0.7768234497334964)\n",
      "('kraken:etheur', 0.22317655026650357)\n",
      "\n",
      "Optimal ret/vol/sr:\n",
      "[0.24325167 0.81779769 0.29744724]\n"
     ]
    }
   ],
   "source": [
    "print('\\nOptimal weights:')\n",
    "for optw in zip(Markets, opt_results.x):\n",
    "    print(optw)\n",
    "\n",
    "print('\\nOptimal ret/vol/sr:')\n",
    "print(get_ret_vol_sr(opt_results.x))"
   ]
  },
  {
   "cell_type": "code",
   "execution_count": 15,
   "metadata": {},
   "outputs": [],
   "source": [
    "# Efficient frontier computation\n",
    "# frontier_y = np.linspace(0, 1.5, 100)\n",
    "# frontier_volatility = []\n",
    "\n",
    "# for possible_return in frontier_y:\n",
    "#     cons = ({\"type\":\"eq\", \"fun\":check_sum}, ({\"type\":\"eq\", \"fun\":lambda w: get_ret_vol_sr(w)[0] - possible_return}))\n",
    "#     result = minimize(minimize_volatility, init_guess, method='SLSQP', bounds=bounds, constraints=cons)\n",
    "#     frontier_volatility.append(result['fun'])"
   ]
  },
  {
   "cell_type": "code",
   "execution_count": 16,
   "metadata": {},
   "outputs": [
    {
     "data": {
      "text/plain": [
       "<matplotlib.collections.PathCollection at 0x7f07a7335f70>"
      ]
     },
     "execution_count": 16,
     "metadata": {},
     "output_type": "execute_result"
    },
    {
     "data": {
      "image/png": "[encoded data removed]",
      "text/plain": [
       "<Figure size 864x576 with 2 Axes>"
      ]
     },
     "metadata": {
      "needs_background": "light"
     },
     "output_type": "display_data"
    }
   ],
   "source": [
    "# Plotting the optimized results\n",
    "# Scatter plot for the portfolio\n",
    "plt.figure(figsize=(12,8))\n",
    "plt.scatter(vol_array, ret_array, c=sharpe_array, cmap='plasma')\n",
    "plt.colorbar(label='Sharpe Ratio')\n",
    "plt.xlabel('Volatility')\n",
    "plt.ylabel('Return')\n",
    "\n",
    "# Scatter the optimized sharpe ratio\n",
    "max_sr_ret = get_ret_vol_sr(opt_results.x)[0]\n",
    "max_sr_vol = get_ret_vol_sr(opt_results.x)[1]\n",
    "\n",
    "plt.scatter(max_sr_vol, max_sr_ret, c='red', s=50, edgecolors='black')\n",
    "# plt.plot(frontier_volatility, frontier_y, 'g--', linewidth=3)"
   ]
  },
  {
   "cell_type": "code",
   "execution_count": 17,
   "metadata": {},
   "outputs": [],
   "source": [
    "PortfolioNormedReturn = Portfolio\n",
    "\n",
    "# Benchmarking the portfolio with buy and hold\n",
    "for name in Portfolio.columns:\n",
    "    PortfolioNormedReturn[name] = Portfolio[name] / Portfolio.iloc[0][name]\n",
    "\n",
    "# Quick fix\n",
    "if 'Position' in PortfolioNormedReturn.columns:\n",
    "    PortfolioNormedReturn = PortfolioNormedReturn.drop(columns=['Position'], axis=1)\n",
    "\n",
    "# Sum the columns with the weights in Position column\n",
    "PortfolioNormedReturn['Position'] = PortfolioNormedReturn[PortfolioNormedReturn.columns].mul(opt_results.x).sum(axis=1)\n",
    "\n",
    "for col in PortfolioNormedReturn.columns:\n",
    "    PortfolioNormedReturn[col] = PortfolioNormedReturn[col] * CapitalRisk"
   ]
  },
  {
   "cell_type": "code",
   "execution_count": 18,
   "metadata": {},
   "outputs": [
    {
     "data": {
      "text/plain": [
       "<AxesSubplot:xlabel='Date'>"
      ]
     },
     "execution_count": 18,
     "metadata": {},
     "output_type": "execute_result"
    },
    {
     "data": {
      "image/png": "[encoded data removed]",
      "text/plain": [
       "<Figure size 864x576 with 1 Axes>"
      ]
     },
     "metadata": {
      "needs_background": "light"
     },
     "output_type": "display_data"
    }
   ],
   "source": [
    "PortfolioNormedReturn.plot(figsize=(12,8))"
   ]
  },
  {
   "cell_type": "code",
   "execution_count": null,
   "metadata": {},
   "outputs": [],
   "source": []
  },
  {
   "cell_type": "code",
   "execution_count": null,
   "metadata": {},
   "outputs": [],
   "source": []
  },
  {
   "cell_type": "code",
   "execution_count": null,
   "metadata": {},
   "outputs": [],
   "source": []
  }
 ],
 "metadata": {
  "kernelspec": {
   "display_name": "Crypto-Portfolio",
   "language": "python",
   "name": "crypto-portfolio"
  },
  "language_info": {
   "codemirror_mode": {
    "name": "ipython",
    "version": 3
   },
   "file_extension": ".py",
   "mimetype": "text/x-python",
   "name": "python",
   "nbconvert_exporter": "python",
   "pygments_lexer": "ipython3",
   "version": "3.8.5"
  }
 },
 "nbformat": 4,
 "nbformat_minor": 4
}
